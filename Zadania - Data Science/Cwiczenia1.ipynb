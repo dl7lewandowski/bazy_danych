{
  "nbformat": 4,
  "nbformat_minor": 0,
  "metadata": {
    "colab": {
      "name": "Cwiczenia.ipynb",
      "provenance": []
    },
    "kernelspec": {
      "name": "python3",
      "display_name": "Python 3"
    }
  },
  "cells": [
    {
      "cell_type": "markdown",
      "metadata": {
        "id": "_-fSKrjcG-uC"
      },
      "source": [
        "Sprawdz, czy wszystkie elementy z tablicy A,B i C zwracają wartosc \r\n",
        "logiczna True wzluz osi o indeksie 1."
      ]
    },
    {
      "cell_type": "code",
      "metadata": {
        "id": "JA0wMRp2Afic",
        "colab": {
          "base_uri": "https://localhost:8080/"
        },
        "outputId": "0dd2b78d-7a04-4554-8a79-59ac60f0a6ea"
      },
      "source": [
        "import numpy as np\r\n",
        "\r\n",
        "\r\n",
        "A = np.array([[3, 2, 1, 4],\r\n",
        "              [5, 2, 1, 6]])\r\n",
        "\r\n",
        "B = np.array([[3, 2, 1, 4],\r\n",
        "              [5, 2, 0, 6]])\r\n",
        "\r\n",
        "C = np.array([[True, False, False],\r\n",
        "              [True, True, True]])\r\n",
        "              \r\n",
        "for name, array in zip(list('ABC'), [A, B, C]):\r\n",
        "    print(f'{name}: {np.all(array, axis=1)}')"
      ],
      "execution_count": null,
      "outputs": [
        {
          "output_type": "stream",
          "text": [
            "A: [ True  True]\n",
            "B: [ True False]\n",
            "C: [False  True]\n"
          ],
          "name": "stdout"
        }
      ]
    },
    {
      "cell_type": "markdown",
      "metadata": {
        "id": "ijn7SYF4AuIf"
      },
      "source": [
        "Sprawdz, czy którykolwiek element z tablic A, B, C i D zwrca wartosc logiczna True\r\n",
        "\r\n",
        "\r\n",
        "np.any()"
      ]
    },
    {
      "cell_type": "code",
      "metadata": {
        "id": "A8_G6dQ3AtwT",
        "colab": {
          "base_uri": "https://localhost:8080/"
        },
        "outputId": "6a2b94c3-1dde-44e8-ee54-1d970aa70b6e"
      },
      "source": [
        "import numpy as np\r\n",
        "\r\n",
        "\r\n",
        "A = np.array([[0, 0, 0],\r\n",
        "              [0, 0, 0]])\r\n",
        "\r\n",
        "B = np.array([[0, 0, 0],\r\n",
        "              [0, 1, 0]])\r\n",
        "\r\n",
        "C = np.array([[False, False, False],\r\n",
        "              [True, False, False]])\r\n",
        "\r\n",
        "D = np.array([[0.1, 0.0]])\r\n",
        "\r\n",
        "for name, array in zip(list('ABCD'), [A, B, C, D]):\r\n",
        "  print(f'{name}: {np.any(array)}')"
      ],
      "execution_count": null,
      "outputs": [
        {
          "output_type": "stream",
          "text": [
            "A: False\n",
            "B: True\n",
            "C: True\n",
            "D: True\n"
          ],
          "name": "stdout"
        }
      ]
    },
    {
      "cell_type": "markdown",
      "metadata": {
        "id": "1H_KE4X8AyyN"
      },
      "source": [
        "Sprawdz, czy którykolwiek element z tablic A, B, C i D zwraca wartosc logiczna True wzluz osi z indeksem 0"
      ]
    },
    {
      "cell_type": "code",
      "metadata": {
        "id": "sH-YFhk7AmW2",
        "colab": {
          "base_uri": "https://localhost:8080/"
        },
        "outputId": "01db0896-e7e8-4cff-904c-641a78f540e0"
      },
      "source": [
        "import numpy as np\r\n",
        "\r\n",
        "\r\n",
        "A = np.array([[0, 0, 0],\r\n",
        "              [0, 0, 0]])\r\n",
        "\r\n",
        "B = np.array([[0, 0, 0],\r\n",
        "              [0, 1, 0]])\r\n",
        "\r\n",
        "C = np.array([[False, False, False],\r\n",
        "              [True, False, False]])\r\n",
        "\r\n",
        "D = np.array([[0.1, 0.0]])\r\n",
        "\r\n",
        "for name, array in zip(list('ABCD'), [A, B, C, D]):\r\n",
        "  print(f'{name}: {np.any(array, axis=0)}')"
      ],
      "execution_count": null,
      "outputs": [
        {
          "output_type": "stream",
          "text": [
            "A: [False False False]\n",
            "B: [False  True False]\n",
            "C: [ True False False]\n",
            "D: [ True False]\n"
          ],
          "name": "stdout"
        }
      ]
    },
    {
      "cell_type": "markdown",
      "metadata": {
        "id": "ZE5hYW34Jf6R"
      },
      "source": [
        "Sprawdz macierz A pod katem brakujaych danych np.nan"
      ]
    },
    {
      "cell_type": "code",
      "metadata": {
        "id": "QxjY7FXPEgvO",
        "colab": {
          "base_uri": "https://localhost:8080/"
        },
        "outputId": "9363e5bf-f255-4a42-ff0b-ac104e86866b"
      },
      "source": [
        "import numpy as np\r\n",
        "\r\n",
        "\r\n",
        "A = np.array([[3, 2, 1, np.nan],\r\n",
        "              [5, np.nan, 1, 6]])\r\n",
        "\r\n",
        "print(np.isnan(A))"
      ],
      "execution_count": null,
      "outputs": [
        {
          "output_type": "stream",
          "text": [
            "[[False False False  True]\n",
            " [False  True False False]]\n"
          ],
          "name": "stdout"
        }
      ]
    },
    {
      "cell_type": "markdown",
      "metadata": {
        "id": "U_P0J10eJ2uw"
      },
      "source": [
        "Sprawdz, czy nastepujace tablice A i B sa rowne pod wzgledem elementow okreslonych poziomem tolerancji. Uzyj funkcji np.allclose() z domyslnymi parametrami. "
      ]
    },
    {
      "cell_type": "code",
      "metadata": {
        "id": "n7xQhc3bGctU",
        "colab": {
          "base_uri": "https://localhost:8080/"
        },
        "outputId": "d29baae7-e032-488d-fd55-31f31a4aed36"
      },
      "source": [
        "import numpy as np\r\n",
        "\r\n",
        "\r\n",
        "A = np.array([0.4, 0.5, 0.3])\r\n",
        "B = np.array([0.39999999, 0.5000001, 0.3])\r\n",
        "\r\n",
        "print(np.allclose(A, B))"
      ],
      "execution_count": null,
      "outputs": [
        {
          "output_type": "stream",
          "text": [
            "True\n"
          ],
          "name": "stdout"
        }
      ]
    },
    {
      "cell_type": "markdown",
      "metadata": {
        "id": "ofOwj2tAKd-z"
      },
      "source": [
        "Sprawdz, czy poznisze tablice A i B sa rowne pod wzgledem elementow. Operator porownania =="
      ]
    },
    {
      "cell_type": "code",
      "metadata": {
        "id": "HotOFK3uKXWZ"
      },
      "source": [
        "import numpy as np\r\n",
        "\r\n",
        "\r\n",
        "A = np.array([0.4, 0.5, 0.3])\r\n",
        "B = np.array([0.3999999999, 0.5000000001, 0.3])\r\n",
        "\r\n",
        "print(A == B)\r\n",
        "# lub \r\n",
        "print(np.equal(A, B))"
      ],
      "execution_count": null,
      "outputs": []
    },
    {
      "cell_type": "markdown",
      "metadata": {
        "id": "Ret3rMhdLVz_"
      },
      "source": [
        "Sprawdz, Ktore elementy z tablicy A maja wyzsze wartosci niz tablica B. "
      ]
    },
    {
      "cell_type": "code",
      "metadata": {
        "id": "KiPrZJpbKq2h",
        "colab": {
          "base_uri": "https://localhost:8080/"
        },
        "outputId": "9ee9b781-8093-4b44-ae62-632e3a23f88a"
      },
      "source": [
        "import numpy as np\r\n",
        "\r\n",
        "\r\n",
        "A = np.array([0.4, 0.5, 0.3, 0.9])\r\n",
        "B = np.array([0.38, 0.51, 0.3, 0.91])\r\n",
        "\r\n",
        "print(A > B)\r\n",
        "\r\n",
        "# lub \r\n",
        "\r\n",
        "print(np.greater(A, B))"
      ],
      "execution_count": null,
      "outputs": [
        {
          "output_type": "stream",
          "text": [
            "[ True False False False]\n",
            "[ True False False False]\n"
          ],
          "name": "stdout"
        }
      ]
    },
    {
      "cell_type": "markdown",
      "metadata": {
        "id": "GLn0sPWDLv3S"
      },
      "source": [
        "Utworz tablice numpy o ksztalcie 4x4 wypelniona zerami. Ustaw typ danych na int. \r\n",
        "\r\n",
        "Funkcja np.zeros()"
      ]
    },
    {
      "cell_type": "code",
      "metadata": {
        "id": "ok7YIXj7Ljey",
        "colab": {
          "base_uri": "https://localhost:8080/"
        },
        "outputId": "2ebafaac-5fb2-4a29-9df9-330342985070"
      },
      "source": [
        "import numpy as np\r\n",
        "print(np.zeros(shape=(4,4), dtype=int))"
      ],
      "execution_count": null,
      "outputs": [
        {
          "output_type": "stream",
          "text": [
            "[[0 0 0 0]\n",
            " [0 0 0 0]\n",
            " [0 0 0 0]\n",
            " [0 0 0 0]]\n"
          ],
          "name": "stdout"
        }
      ]
    },
    {
      "cell_type": "markdown",
      "metadata": {
        "id": "gQNlfTA3NPIA"
      },
      "source": [
        "Utworz tablice numpy o ksztalcie 10X10 wypelniona 255, Ustaw typ danych na float.\r\n",
        "Fukcje np.ones() lub np.full()"
      ]
    },
    {
      "cell_type": "code",
      "metadata": {
        "id": "5D72mgFOMKmZ",
        "colab": {
          "base_uri": "https://localhost:8080/"
        },
        "outputId": "a32722c5-2671-49aa-dbad-ae4341f9d604"
      },
      "source": [
        "import numpy as np\r\n",
        "print(np.full(shape=(10,10), fill_value=255, dtype=float))\r\n",
        "# lub \r\n",
        "print('------------------------------------------------')\r\n",
        "print(np.ones(shape=(10, 10), dtype='float')  * 255)"
      ],
      "execution_count": null,
      "outputs": [
        {
          "output_type": "stream",
          "text": [
            "[[255. 255. 255. 255. 255. 255. 255. 255. 255. 255.]\n",
            " [255. 255. 255. 255. 255. 255. 255. 255. 255. 255.]\n",
            " [255. 255. 255. 255. 255. 255. 255. 255. 255. 255.]\n",
            " [255. 255. 255. 255. 255. 255. 255. 255. 255. 255.]\n",
            " [255. 255. 255. 255. 255. 255. 255. 255. 255. 255.]\n",
            " [255. 255. 255. 255. 255. 255. 255. 255. 255. 255.]\n",
            " [255. 255. 255. 255. 255. 255. 255. 255. 255. 255.]\n",
            " [255. 255. 255. 255. 255. 255. 255. 255. 255. 255.]\n",
            " [255. 255. 255. 255. 255. 255. 255. 255. 255. 255.]\n",
            " [255. 255. 255. 255. 255. 255. 255. 255. 255. 255.]]\n",
            "------------------------------------------------\n",
            "[[255. 255. 255. 255. 255. 255. 255. 255. 255. 255.]\n",
            " [255. 255. 255. 255. 255. 255. 255. 255. 255. 255.]\n",
            " [255. 255. 255. 255. 255. 255. 255. 255. 255. 255.]\n",
            " [255. 255. 255. 255. 255. 255. 255. 255. 255. 255.]\n",
            " [255. 255. 255. 255. 255. 255. 255. 255. 255. 255.]\n",
            " [255. 255. 255. 255. 255. 255. 255. 255. 255. 255.]\n",
            " [255. 255. 255. 255. 255. 255. 255. 255. 255. 255.]\n",
            " [255. 255. 255. 255. 255. 255. 255. 255. 255. 255.]\n",
            " [255. 255. 255. 255. 255. 255. 255. 255. 255. 255.]\n",
            " [255. 255. 255. 255. 255. 255. 255. 255. 255. 255.]]\n"
          ],
          "name": "stdout"
        }
      ]
    },
    {
      "cell_type": "markdown",
      "metadata": {
        "id": "fUJ5oeFEPUF7"
      },
      "source": [
        "Zbuduj jednowymiarowa tablice numpy skladajaca sie z wszystkich liczb dwucyfrowaych. \r\n",
        "Funkcja np.arange()"
      ]
    },
    {
      "cell_type": "code",
      "metadata": {
        "colab": {
          "base_uri": "https://localhost:8080/"
        },
        "id": "Z4Y2urW3N7uS",
        "outputId": "5db593d1-8aec-40f8-f40e-220c9300810a"
      },
      "source": [
        "import numpy as np\r\n",
        "np.arange(10,100)"
      ],
      "execution_count": null,
      "outputs": [
        {
          "output_type": "execute_result",
          "data": {
            "text/plain": [
              "array([10, 11, 12, 13, 14, 15, 16, 17, 18, 19, 20, 21, 22, 23, 24, 25, 26,\n",
              "       27, 28, 29, 30, 31, 32, 33, 34, 35, 36, 37, 38, 39, 40, 41, 42, 43,\n",
              "       44, 45, 46, 47, 48, 49, 50, 51, 52, 53, 54, 55, 56, 57, 58, 59, 60,\n",
              "       61, 62, 63, 64, 65, 66, 67, 68, 69, 70, 71, 72, 73, 74, 75, 76, 77,\n",
              "       78, 79, 80, 81, 82, 83, 84, 85, 86, 87, 88, 89, 90, 91, 92, 93, 94,\n",
              "       95, 96, 97, 98, 99])"
            ]
          },
          "metadata": {
            "tags": []
          },
          "execution_count": 160
        }
      ]
    },
    {
      "cell_type": "markdown",
      "metadata": {
        "id": "24gN8VZeQTYF"
      },
      "source": [
        "Zbuduj talice numpy 9 x 10 dla liczby dwucyfrowych. \r\n",
        "Funkcje np.arange() i metody np.ndarray.reshape()"
      ]
    },
    {
      "cell_type": "code",
      "metadata": {
        "colab": {
          "base_uri": "https://localhost:8080/"
        },
        "id": "8V2Y_q3GPx3w",
        "outputId": "ce64a0bb-3792-441b-83b0-21e7acf5af13"
      },
      "source": [
        "import numpy as np\r\n",
        "a = np.arange(10,100).reshape((9,10))\r\n",
        "print(a)\r\n",
        "\r\n",
        "print(np.arange(10,100).reshape(-1,10))\r\n",
        "\r\n",
        "print(np.arange(10,100).reshape(9,-1))"
      ],
      "execution_count": null,
      "outputs": [
        {
          "output_type": "stream",
          "text": [
            "[[10 11 12 13 14 15 16 17 18 19]\n",
            " [20 21 22 23 24 25 26 27 28 29]\n",
            " [30 31 32 33 34 35 36 37 38 39]\n",
            " [40 41 42 43 44 45 46 47 48 49]\n",
            " [50 51 52 53 54 55 56 57 58 59]\n",
            " [60 61 62 63 64 65 66 67 68 69]\n",
            " [70 71 72 73 74 75 76 77 78 79]\n",
            " [80 81 82 83 84 85 86 87 88 89]\n",
            " [90 91 92 93 94 95 96 97 98 99]]\n",
            "[[10 11 12 13 14 15 16 17 18 19]\n",
            " [20 21 22 23 24 25 26 27 28 29]\n",
            " [30 31 32 33 34 35 36 37 38 39]\n",
            " [40 41 42 43 44 45 46 47 48 49]\n",
            " [50 51 52 53 54 55 56 57 58 59]\n",
            " [60 61 62 63 64 65 66 67 68 69]\n",
            " [70 71 72 73 74 75 76 77 78 79]\n",
            " [80 81 82 83 84 85 86 87 88 89]\n",
            " [90 91 92 93 94 95 96 97 98 99]]\n",
            "[[10 11 12 13 14 15 16 17 18 19]\n",
            " [20 21 22 23 24 25 26 27 28 29]\n",
            " [30 31 32 33 34 35 36 37 38 39]\n",
            " [40 41 42 43 44 45 46 47 48 49]\n",
            " [50 51 52 53 54 55 56 57 58 59]\n",
            " [60 61 62 63 64 65 66 67 68 69]\n",
            " [70 71 72 73 74 75 76 77 78 79]\n",
            " [80 81 82 83 84 85 86 87 88 89]\n",
            " [90 91 92 93 94 95 96 97 98 99]]\n"
          ],
          "name": "stdout"
        }
      ]
    },
    {
      "cell_type": "markdown",
      "metadata": {
        "id": "qrK--bjFczC2"
      },
      "source": [
        "Zbuduj dwuwymiarowa tablice numpy o ksztalcie 6x6 - macierz jednostkowa o typie danych int"
      ]
    },
    {
      "cell_type": "code",
      "metadata": {
        "id": "HPHnAT5sQ8ak",
        "colab": {
          "base_uri": "https://localhost:8080/"
        },
        "outputId": "aff2e7eb-0803-4684-e63c-2b1241c61fe8"
      },
      "source": [
        "import numpy as np\r\n",
        "\r\n",
        "print(np.eye(N=6, dtype=int))"
      ],
      "execution_count": null,
      "outputs": [
        {
          "output_type": "stream",
          "text": [
            "[[1 0 0 0 0 0]\n",
            " [0 1 0 0 0 0]\n",
            " [0 0 1 0 0 0]\n",
            " [0 0 0 1 0 0]\n",
            " [0 0 0 0 1 0]\n",
            " [0 0 0 0 0 1]]\n"
          ],
          "name": "stdout"
        }
      ]
    },
    {
      "cell_type": "markdown",
      "metadata": {
        "id": "jBkrnR7AdbLB"
      },
      "source": [
        "Ustaw ziarno losowe na 10. Nastepnie zbuduj jednowymiarowa tablice numpy skladajaca sie z 30 pseudolosowych wygenerowanych wartosci z rozkladu jednostajnego na przedziale [0,1). "
      ]
    },
    {
      "cell_type": "code",
      "metadata": {
        "colab": {
          "base_uri": "https://localhost:8080/"
        },
        "id": "EblSKUZvdBr5",
        "outputId": "f9f0611d-9628-490d-bef1-fb846ebe2480"
      },
      "source": [
        "import numpy as np\r\n",
        "import random \r\n",
        "np.random.seed(10)\r\n",
        "print(np.random.rand(30))"
      ],
      "execution_count": null,
      "outputs": [
        {
          "output_type": "stream",
          "text": [
            "[0.77132064 0.02075195 0.63364823 0.74880388 0.49850701 0.22479665\n",
            " 0.19806286 0.76053071 0.16911084 0.08833981 0.68535982 0.95339335\n",
            " 0.00394827 0.51219226 0.81262096 0.61252607 0.72175532 0.29187607\n",
            " 0.91777412 0.71457578 0.54254437 0.14217005 0.37334076 0.67413362\n",
            " 0.44183317 0.43401399 0.61776698 0.51313824 0.65039718 0.60103895]\n"
          ],
          "name": "stdout"
        }
      ]
    },
    {
      "cell_type": "markdown",
      "metadata": {
        "id": "DiDHNCpHhKJf"
      },
      "source": [
        "Ustaw ziarno losowe na 20. Nastepenie zbuduj dwuwymiarowa tablice numpy o ksztalcie (10,4) z wygnererowanymi pseudolosowo wartosciami ze standardowego rozkladu normalnego N(0,1)"
      ]
    },
    {
      "cell_type": "code",
      "metadata": {
        "colab": {
          "base_uri": "https://localhost:8080/"
        },
        "id": "Scxg7vU3dzqG",
        "outputId": "1f6dd414-bd49-4b53-c1a5-26613acbba48"
      },
      "source": [
        "import numpy as np\r\n",
        "import random \r\n",
        "np.random.seed(20)\r\n",
        "\r\n",
        "print(np.random.randn(40).reshape((10,4)))"
      ],
      "execution_count": null,
      "outputs": [
        {
          "output_type": "stream",
          "text": [
            "[[ 0.88389311  0.19586502  0.35753652 -2.34326191]\n",
            " [-1.08483259  0.55969629  0.93946935 -0.97848104]\n",
            " [ 0.50309684  0.40641447  0.32346101 -0.49341088]\n",
            " [-0.79201679 -0.84236793 -1.27950266  0.24571517]\n",
            " [-0.0441948   1.56763255  1.05110868  0.40636843]\n",
            " [-0.1686461  -3.18970279  1.12013226  1.33277821]\n",
            " [-0.24333877 -0.13003071 -0.10901737  1.55618644]\n",
            " [ 0.12877835 -2.06694872 -0.88549315 -1.10457948]\n",
            " [ 0.93286635  2.059838   -0.93493796 -1.61299022]\n",
            " [ 0.52706972 -1.55110074  0.32961334 -1.13652654]]\n"
          ],
          "name": "stdout"
        }
      ]
    },
    {
      "cell_type": "markdown",
      "metadata": {
        "id": "bsBvbqDBiiL3"
      },
      "source": [
        "Ustaw ziarno losowe na 30. Nasteepnie zbuduj dwuwymiarowa tablice numpy o ksztalcie (10,4) z wygenerowanymi pseoudolosowo wartosciami z rozkładu normalnego N(100,5)"
      ]
    },
    {
      "cell_type": "code",
      "metadata": {
        "colab": {
          "base_uri": "https://localhost:8080/"
        },
        "id": "ockmFTZeh2KA",
        "outputId": "949942f1-9091-4438-e88e-d0ed91ead131"
      },
      "source": [
        "import numpy as np\r\n",
        "import math\r\n",
        "np.random.seed(30)\r\n",
        "\r\n",
        "print(math.sqrt(5) * np.random.randn(40).reshape((10,4)) + 100)"
      ],
      "execution_count": null,
      "outputs": [
        {
          "output_type": "stream",
          "text": [
            "[[ 97.17349231 103.41650023  97.82942436 101.05220329]\n",
            " [ 99.7748353  100.67930221  96.14063068 103.544381  ]\n",
            " [100.30029631  97.52499594 103.52901961 100.24037271]\n",
            " [ 98.29153712  98.2666258  103.09437633 101.70027274]\n",
            " [ 99.36127721 101.20382627  95.34026547 102.09694365]\n",
            " [ 99.98708001  98.95468525  99.05410904 102.38025432]\n",
            " [ 93.50787269 103.61547679 103.18753701  98.51356237]\n",
            " [102.20256689  96.19764407  97.54000366  97.05813038]\n",
            " [101.81233513  97.66380453  98.45883627  98.09317768]\n",
            " [102.48979932  95.70413391  98.43161651 101.89861815]]\n"
          ],
          "name": "stdout"
        }
      ]
    },
    {
      "cell_type": "markdown",
      "metadata": {
        "id": "lUY7qgKKkbTo"
      },
      "source": [
        "Dokonaj iteracji po tabllicy numpy A i wydrukuj kazdy element tablicy konsoli."
      ]
    },
    {
      "cell_type": "code",
      "metadata": {
        "colab": {
          "base_uri": "https://localhost:8080/"
        },
        "id": "E2Uht1dLi-HU",
        "outputId": "8ce5bddf-7a62-42f0-e23c-a6cc5cf694f2"
      },
      "source": [
        "import numpy as np\r\n",
        "\r\n",
        "A = np.array([[1,4,3],\r\n",
        "              [5,2,6]])\r\n",
        "for a in np.nditer(A):\r\n",
        "  print(a)"
      ],
      "execution_count": null,
      "outputs": [
        {
          "output_type": "stream",
          "text": [
            "1\n",
            "4\n",
            "3\n",
            "5\n",
            "2\n",
            "6\n"
          ],
          "name": "stdout"
        }
      ]
    },
    {
      "cell_type": "markdown",
      "metadata": {
        "id": "Ui_2bwa1l0rH"
      },
      "source": [
        "Utworz jednowymiarowa tablice numpy (wektor) skladajacy sie z 11 rowno rozmieszczonych punktow z przedzialu [0,1). \r\n"
      ]
    },
    {
      "cell_type": "code",
      "metadata": {
        "colab": {
          "base_uri": "https://localhost:8080/"
        },
        "id": "cjtRogSyksol",
        "outputId": "6d3cdc32-15ca-470d-85f6-a3e2b7ff4449"
      },
      "source": [
        "import numpy as np\r\n",
        "\r\n",
        "print(np.linspace(start=0,stop=1, num=11))"
      ],
      "execution_count": null,
      "outputs": [
        {
          "output_type": "stream",
          "text": [
            "[0.  0.1 0.2 0.3 0.4 0.5 0.6 0.7 0.8 0.9 1. ]\n"
          ],
          "name": "stdout"
        }
      ]
    },
    {
      "cell_type": "markdown",
      "metadata": {
        "id": "Jq507KJJmUEP"
      },
      "source": [
        "Ustaw ziarno losowe na 42. Wygenruj jednowymiarowa tablice (wektor) zawierajacy mozliwy wynik gry w duzy lotek. "
      ]
    },
    {
      "cell_type": "code",
      "metadata": {
        "colab": {
          "base_uri": "https://localhost:8080/"
        },
        "id": "tGwCvxkfmHw6",
        "outputId": "75abd717-7506-45b9-df4f-4b87c484e33f"
      },
      "source": [
        "import numpy as np\r\n",
        "\r\n",
        "np.random.seed(42)\r\n",
        "print(np.random.choice(range(1,50), size=6,replace=False))\r\n"
      ],
      "execution_count": null,
      "outputs": [
        {
          "output_type": "stream",
          "text": [
            "[14 46 48 45 18 28]\n"
          ],
          "name": "stdout"
        }
      ]
    },
    {
      "cell_type": "markdown",
      "metadata": {
        "id": "b4mPxef0uCw7"
      },
      "source": [
        "Zbuduj dwuwymiarowa tablice o ksztalcie 6x6 "
      ]
    },
    {
      "cell_type": "code",
      "metadata": {
        "colab": {
          "base_uri": "https://localhost:8080/"
        },
        "id": "fuyTW8bGm8DR",
        "outputId": "d2045ea4-db19-4bdf-f1f3-c681c323e2ab"
      },
      "source": [
        "import numpy as np\r\n",
        "\r\n",
        "a = np.zeros((6,6))\r\n",
        "b = np.linspace(0,5,6,dtype=int)\r\n",
        "\r\n",
        "print(np.diag(b))\r\n",
        "\r\n",
        "# lub \r\n",
        "\r\n",
        "print(np.diag(np.arange(6)))"
      ],
      "execution_count": null,
      "outputs": [
        {
          "output_type": "stream",
          "text": [
            "[[0 0 0 0 0 0]\n",
            " [0 1 0 0 0 0]\n",
            " [0 0 2 0 0 0]\n",
            " [0 0 0 3 0 0]\n",
            " [0 0 0 0 4 0]\n",
            " [0 0 0 0 0 5]]\n",
            "[[0 0 0 0 0 0]\n",
            " [0 1 0 0 0 0]\n",
            " [0 0 2 0 0 0]\n",
            " [0 0 0 3 0 0]\n",
            " [0 0 0 0 4 0]\n",
            " [0 0 0 0 0 5]]\n"
          ],
          "name": "stdout"
        }
      ]
    },
    {
      "cell_type": "markdown",
      "metadata": {
        "id": "91YUxN0fz9MD"
      },
      "source": [
        "Wygeneruj tablice w numpy. Zapisz do pliku binarnego o nazwie 'array.npy', zaladuj ten plik z powrotem do innej zmiennej i wydrukuj zawardtosc do konsoli"
      ]
    },
    {
      "cell_type": "code",
      "metadata": {
        "colab": {
          "base_uri": "https://localhost:8080/"
        },
        "id": "V5NxHjIpuklH",
        "outputId": "b08ae037-fb12-4bbd-9d0b-662de23c833c"
      },
      "source": [
        "import numpy as np\r\n",
        "\r\n",
        "a = np.arange(12).reshape(3,4)\r\n",
        "with open('array.npy', 'wb') as f:\r\n",
        "  np.save(f, a)\r\n",
        "\r\n",
        "with open('array.npy', 'rb') as f:\r\n",
        "  a = np.load(f)\r\n",
        "\r\n",
        "print(a)\r\n",
        "\r\n",
        "# lub \r\n",
        "\r\n",
        "np.save('array.npy', a)\r\n",
        "b = np.load('array.npy')\r\n",
        "print(b)"
      ],
      "execution_count": null,
      "outputs": [
        {
          "output_type": "stream",
          "text": [
            "[[ 0  1  2  3]\n",
            " [ 4  5  6  7]\n",
            " [ 8  9 10 11]]\n",
            "[[ 0  1  2  3]\n",
            " [ 4  5  6  7]\n",
            " [ 8  9 10 11]]\n"
          ],
          "name": "stdout"
        }
      ]
    },
    {
      "cell_type": "markdown",
      "metadata": {
        "id": "NeNdjKGq-ZYn"
      },
      "source": [
        "Wygeneruj tablice numpy:\r\n",
        "Zapisz tablice do pliku tekstowego o nazwie 'array.txt' z dwoma miejscami po przecinku, zaladuj plik z powrotem do zmiennej i wydrukuj jej zawartosc."
      ]
    },
    {
      "cell_type": "code",
      "metadata": {
        "colab": {
          "base_uri": "https://localhost:8080/"
        },
        "id": "2W_ZIVrY0Pte",
        "outputId": "efc82130-bed7-491d-ff2e-9ff528236195"
      },
      "source": [
        "import numpy as np\r\n",
        "a = np.arange(12, dtype=int).reshape(3,4)\r\n",
        "\r\n",
        "np.savetxt('array.txt', a)\r\n",
        "b = np.loadtxt('array.txt')\r\n",
        "\r\n",
        "print(b)\r\n"
      ],
      "execution_count": null,
      "outputs": [
        {
          "output_type": "stream",
          "text": [
            "[[ 0.  1.  2.  3.]\n",
            " [ 4.  5.  6.  7.]\n",
            " [ 8.  9. 10. 11.]]\n"
          ],
          "name": "stdout"
        }
      ]
    },
    {
      "cell_type": "markdown",
      "metadata": {
        "id": "tU8mmevZ_oaq"
      },
      "source": [
        "Wygeneruj i przeksztalc nastepujaca tablice numpy:\r\n"
      ]
    },
    {
      "cell_type": "code",
      "metadata": {
        "colab": {
          "base_uri": "https://localhost:8080/"
        },
        "id": "UpTVDLq4-tV4",
        "outputId": "e3bec8a5-68d8-40e3-91f0-877a825ed405"
      },
      "source": [
        "import numpy as np\r\n",
        "\r\n",
        "a = np.arange(0,12, dtype=int).reshape(3,4)\r\n",
        "print(a)\r\n",
        "print(a.tolist())\r\n",
        "\r\n",
        "# lub \r\n",
        "\r\n",
        "b = np.arange(0,12,dtype=int).reshape(-1,4)\r\n",
        "#print(b.tolist())"
      ],
      "execution_count": null,
      "outputs": [
        {
          "output_type": "stream",
          "text": [
            "[[ 0  1  2  3]\n",
            " [ 4  5  6  7]\n",
            " [ 8  9 10 11]]\n",
            "[[0, 1, 2, 3], [4, 5, 6, 7], [8, 9, 10, 11]]\n"
          ],
          "name": "stdout"
        }
      ]
    },
    {
      "cell_type": "markdown",
      "metadata": {
        "id": "QuFzJ31-C1By"
      },
      "source": [
        "Podana jest nastepujaca tablica numpy.\r\n",
        "Przeksztalc tablice"
      ]
    },
    {
      "cell_type": "code",
      "metadata": {
        "colab": {
          "base_uri": "https://localhost:8080/"
        },
        "id": "6JBSS7x__5xI",
        "outputId": "70e63eb9-b826-4639-f488-046a30e6b3cf"
      },
      "source": [
        "import numpy as np \r\n",
        "\r\n",
        "a = np.arange(0,12, dtype=int).reshape(3,4).tolist()\r\n",
        "print(a)\r\n",
        "a = list(reversed(a))\r\n",
        "a = np.array(a)\r\n",
        "print(a)\r\n",
        "\r\n",
        "# lub \r\n",
        "\r\n",
        "a = np.arange(0,12, dtype=int).reshape(-1,4)\r\n",
        "print(a[::-1])"
      ],
      "execution_count": null,
      "outputs": [
        {
          "output_type": "stream",
          "text": [
            "[[0, 1, 2, 3], [4, 5, 6, 7], [8, 9, 10, 11]]\n",
            "[[ 8  9 10 11]\n",
            " [ 4  5  6  7]\n",
            " [ 0  1  2  3]]\n",
            "[[ 8  9 10 11]\n",
            " [ 4  5  6  7]\n",
            " [ 0  1  2  3]]\n"
          ],
          "name": "stdout"
        }
      ]
    },
    {
      "cell_type": "markdown",
      "metadata": {
        "id": "YUiDfsMUIf60"
      },
      "source": [
        "Przekształć  tablice\r\n",
        "Funkcja np.pad()\r\n"
      ]
    },
    {
      "cell_type": "code",
      "metadata": {
        "colab": {
          "base_uri": "https://localhost:8080/"
        },
        "id": "y1TrxcIDDMxf",
        "outputId": "23a54bf5-e2d0-4e62-acb4-5e634bb9184d"
      },
      "source": [
        "import numpy as np\r\n",
        "\r\n",
        "a = np.full((4,4),fill_value=1, dtype=float)\r\n",
        "print(np.pad(a,(1,1)))\r\n",
        "\r\n",
        "# lub \r\n",
        "\r\n",
        "A = np.ones(shape=(4, 4))\r\n",
        "print(np.pad(A, pad_width=1, constant_values=0))\r\n"
      ],
      "execution_count": null,
      "outputs": [
        {
          "output_type": "stream",
          "text": [
            "[[0. 0. 0. 0. 0. 0.]\n",
            " [0. 1. 1. 1. 1. 0.]\n",
            " [0. 1. 1. 1. 1. 0.]\n",
            " [0. 1. 1. 1. 1. 0.]\n",
            " [0. 1. 1. 1. 1. 0.]\n",
            " [0. 0. 0. 0. 0. 0.]]\n",
            "[[0. 0. 0. 0. 0. 0.]\n",
            " [0. 1. 1. 1. 1. 0.]\n",
            " [0. 1. 1. 1. 1. 0.]\n",
            " [0. 1. 1. 1. 1. 0.]\n",
            " [0. 1. 1. 1. 1. 0.]\n",
            " [0. 0. 0. 0. 0. 0.]]\n"
          ],
          "name": "stdout"
        }
      ]
    },
    {
      "cell_type": "code",
      "metadata": {
        "id": "bggZvDPjJFcs"
      },
      "source": [
        ""
      ],
      "execution_count": null,
      "outputs": []
    }
  ]
}